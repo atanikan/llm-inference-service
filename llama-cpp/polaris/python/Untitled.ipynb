{
 "cells": [
  {
   "cell_type": "code",
   "execution_count": 18,
   "id": "2ada4928-d619-429a-8c3c-678913b2d999",
   "metadata": {},
   "outputs": [
    {
     "name": "stdout",
     "output_type": "stream",
     "text": [
      "Please go to this URL and login:\n",
      "\n",
      "https://auth.globus.org/v2/oauth2/authorize?client_id=99bc7f15-ebed-4d6b-b783-8f7ae8735135&redirect_uri=https%3A%2F%2Fauth.globus.org%2Fv2%2Fweb%2Fauth-code&scope=https%3A%2F%2Fauth.globus.org%2Fscopes%2F681c10cc-f684-4540-bcd7-0b4df3bc26ef%2Faction_all&state=_default&response_type=code&code_challenge=XP3D2gwS0yUwxg5IZ1cGg_SVCocwljSWKWuOy8CrR00&code_challenge_method=S256&access_type=online\n",
      "\n"
     ]
    }
   ],
   "source": [
    "import globus_sdk\n",
    "import requests\n",
    "import json\n",
    "\n",
    "# Globus ID and Scope\n",
    "# ===================\n",
    "\n",
    "# Define your Globus thick-client ID\n",
    "# https://app.globus.org/settings/developers\n",
    "# This needs to be created by users (they can also re-use one of the existing clients)\n",
    "my_client_id = \"99bc7f15-ebed-4d6b-b783-8f7ae8735135\"\n",
    "\n",
    "# Define the inference-gateway resource service scope\n",
    "# This will be publicly available to users\n",
    "vllm_client_id = \"681c10cc-f684-4540-bcd7-0b4df3bc26ef\"\n",
    "vllm_scope = f\"https://auth.globus.org/scopes/{vllm_client_id}/action_all\"\n",
    "\n",
    "# Authentication and Access Token\n",
    "# ===============================\n",
    "\n",
    "# Start an Auth client with the vLLM scope\n",
    "auth_client = globus_sdk.NativeAppAuthClient(my_client_id)\n",
    "auth_client.oauth2_start_flow(requested_scopes=vllm_scope)\n",
    "\n",
    "# Authenticate with your Globus account\n",
    "authorize_url = auth_client.oauth2_get_authorize_url()\n",
    "print(f\"Please go to this URL and login:\\n\\n{authorize_url}\\n\")\n"
   ]
  },
  {
   "cell_type": "code",
   "execution_count": 19,
   "id": "49c7ba5d-6f9e-44c1-8c2c-17524383c826",
   "metadata": {},
   "outputs": [],
   "source": [
    "# Collect access token to vLLM service\n",
    "auth_code = \"NYUtFj3H9mhRuRvE5F7rvWJrwdxkky\"\n",
    "token_response = auth_client.oauth2_exchange_code_for_tokens(auth_code)\n",
    "access_token = token_response.by_resource_server[vllm_client_id][\"access_token\"]"
   ]
  },
  {
   "cell_type": "code",
   "execution_count": 23,
   "id": "e948dfb9-e1dc-44f6-a5d7-4fff908f974c",
   "metadata": {},
   "outputs": [
    {
     "name": "stderr",
     "output_type": "stream",
     "text": [
      "/opt/anaconda3/envs/llama-cpp-python-env/lib/python3.10/site-packages/urllib3/connectionpool.py:1103: InsecureRequestWarning: Unverified HTTPS request is being made to host 'data-portal-dev-vmw-01.cels.anl.gov'. Adding certificate verification is strongly advised. See: https://urllib3.readthedocs.io/en/latest/advanced-usage.html#tls-warnings\n",
      "  warnings.warn(\n"
     ]
    },
    {
     "name": "stdout",
     "output_type": "stream",
     "text": [
      "200\n",
      "{'server_response': '{\\n    \"id\": \"chatcmpl-6f822eac-b64b-4896-8724-0de45c90daf9\",\\n    \"choices\": [\\n        {\\n            \"finish_reason\": \"stop\",\\n            \"index\": 0,\\n            \"logprobs\": null,\\n            \"message\": {\\n                \"content\": \"We\\'re in a digital space, and I\\'m here to assist you with any questions or tasks you may have!\",\\n                \"role\": \"assistant\"\\n            }\\n        }\\n    ],\\n    \"created\": 1717094392,\\n    \"model\": \"Meta-Llama-3-8B-Instruct-Q8_0.gguf\",\\n    \"object\": \"chat.completion\",\\n    \"usage\": {\\n        \"completion_tokens\": 23,\\n        \"prompt_tokens\": 26,\\n        \"total_tokens\": 49\\n    }\\n}'}\n"
     ]
    }
   ],
   "source": [
    "\n",
    "\n",
    "# Make API Requests\n",
    "# =================\n",
    "\n",
    "# URL to the inference gateway (needs to end with forward slash /)\n",
    "url = \"https://data-portal-dev-vmw-01.cels.anl.gov/resource_server/polaris/\"\n",
    "\n",
    "# Add access token to the headers\n",
    "headers = {\n",
    "    \"Authorization\": f\"Bearer {access_token}\",\n",
    "    \"Content-Type\": \"application/json\"\n",
    "}\n",
    "\n",
    "# Prepare the inference request\n",
    "data = {\n",
    "    \"framework\": \"llama_cpp\", # Parameter ignored at the moment\n",
    "    \"model_params\": {\n",
    "        \"model_name\": \"meta-Llama3-8b-instruct\", # Parameter ignored at the moment\n",
    "        \"temperature\": 0.7, # Parameter ignored at the moment\n",
    "        \"max_tokens\": 150, # Parameter ignored at the moment\n",
    "        \"prompt\": \"Where are we?\",\n",
    "        \"logprobs\": True # Parameter ignored at the moment\n",
    "    }\n",
    "}\n",
    "\n",
    "# Convert data into Json\n",
    "data_json = json.dumps(data)\n",
    "\n",
    "# Send the post request to the relay server\n",
    "# verify=False should not be used in production, this is because we currently use self-signed SSL certificate\n",
    "response = requests.post(url, data=data_json, headers=headers, verify=False)\n",
    "\n",
    "# Print inference response\n",
    "print(response.status_code)\n",
    "if response.status_code == 200:\n",
    "    print(response.json())\n",
    "else:\n",
    "    print(\"failed\")\n",
    "    print(response.json())"
   ]
  },
  {
   "cell_type": "code",
   "execution_count": 15,
   "id": "66b2d8d9-81c7-40fb-9d3b-27d977facc76",
   "metadata": {},
   "outputs": [
    {
     "name": "stdout",
     "output_type": "stream",
     "text": [
      "3.41.0\n"
     ]
    }
   ],
   "source": [
    "print(globus_sdk.__version__)"
   ]
  },
  {
   "cell_type": "code",
   "execution_count": null,
   "id": "e9ddf32a-ec88-4695-820e-8a5547b3f1e0",
   "metadata": {},
   "outputs": [],
   "source": []
  }
 ],
 "metadata": {
  "kernelspec": {
   "display_name": "Python3.10-llama-cpp-env",
   "language": "python",
   "name": "llama-cpp-python-env"
  },
  "language_info": {
   "codemirror_mode": {
    "name": "ipython",
    "version": 3
   },
   "file_extension": ".py",
   "mimetype": "text/x-python",
   "name": "python",
   "nbconvert_exporter": "python",
   "pygments_lexer": "ipython3",
   "version": "3.10.12"
  }
 },
 "nbformat": 4,
 "nbformat_minor": 5
}
